{
 "cells": [
  {
   "cell_type": "code",
   "execution_count": 23,
   "metadata": {},
   "outputs": [],
   "source": [
    "import numpy as np\n",
    "from matplotlib import pyplot as plt\n",
    "\n"
   ]
  },
  {
   "cell_type": "code",
   "execution_count": 24,
   "metadata": {},
   "outputs": [],
   "source": [
    "covid = open(\"corona.txt\").read()\n",
    "covid = covid.replace(\"\\n\",\"\")\n",
    "influenza = open(\"influenza.txt\").read()\n",
    "influenza = influenza.replace(\"\\n\",\"\")\n",
    "\n",
    "pares_covid, pares_influenza= [],[] \n",
    "\n",
    "for i in range(len(covid)-1):   \n",
    "  pares_covid.append(covid[i]+covid[i+1]) \n",
    "\n",
    "AT_covid= pares_covid.count('AT')\n",
    "AC_covid= pares_covid.count('AC')\n",
    "AG_covid= pares_covid.count('AG')\n",
    "AA_covid= pares_covid.count('AA')\n",
    "TA_covid= pares_covid.count('TA')\n",
    "TT_covid= pares_covid.count('TT')\n",
    "TC_covid= pares_covid.count('TC')\n",
    "TG_covid= pares_covid.count('TG')\n",
    "CA_covid= pares_covid.count('CA')\n",
    "CT_covid= pares_covid.count('CT')\n",
    "CC_covid= pares_covid.count('CC')\n",
    "CG_covid= pares_covid.count('CG')\n",
    "GA_covid= pares_covid.count('GA')\n",
    "GT_covid= pares_covid.count('GT')\n",
    "GC_covid= pares_covid.count('GC')\n",
    "GG_covid= pares_covid.count('GG')\n",
    "\n",
    "matriz_covid = np.array([AA_covid,AT_covid,AC_covid,AG_covid,TA_covid,TT_covid,TC_covid,TG_covid,CA_covid,CT_covid,CC_covid,CG_covid,GA_covid,GT_covid,GC_covid,GG_covid])\n",
    "matriz_covid1 = matriz_covid.reshape(4,4)\n",
    "\n",
    "for i in range(len(influenza)-1):   \n",
    "  pares_influenza.append(influenza[i]+influenza[i+1]) \n",
    "\n",
    "AT_influenza= pares_influenza.count('AT')\n",
    "AC_influenza= pares_influenza.count('AC')\n",
    "AG_influenza= pares_influenza.count('AG')\n",
    "AA_influenza= pares_influenza.count('AA')\n",
    "TA_influenza= pares_influenza.count('TA')\n",
    "TT_influenza= pares_influenza.count('TT')\n",
    "TC_influenza= pares_influenza.count('TC')\n",
    "TG_influenza= pares_influenza.count('TG')\n",
    "CA_influenza= pares_influenza.count('CA')\n",
    "CT_influenza= pares_influenza.count('CT')\n",
    "CC_influenza= pares_influenza.count('CC')\n",
    "CG_influenza= pares_influenza.count('CG')\n",
    "GA_influenza= pares_influenza.count('GA')\n",
    "GT_influenza= pares_influenza.count('GT')\n",
    "GC_influenza= pares_influenza.count('GC')\n",
    "GG_influenza= pares_influenza.count('GG')\n",
    "\n",
    "matriz_influenza = np.array([AA_influenza,AT_influenza,AC_influenza,AG_influenza,TA_influenza,TT_influenza,TC_influenza,TG_influenza,CA_influenza,CT_influenza,CC_influenza,CG_influenza,GA_influenza,GT_influenza,GC_influenza,GG_influenza])\n",
    "matriz_influenza1 = matriz_influenza.reshape(4,4)\n",
    "\n",
    "\n",
    "\n",
    "\n"
   ]
  },
  {
   "cell_type": "code",
   "execution_count": 25,
   "metadata": {},
   "outputs": [
    {
     "data": {
      "image/png": "[encoded data removed]",
      "text/plain": [
       "<Figure size 432x288 with 2 Axes>"
      ]
     },
     "metadata": {
      "needs_background": "light"
     },
     "output_type": "display_data"
    }
   ],
   "source": [
    "\n",
    "plt.imshow(matriz_covid1, cmap = 'Blues', origin=\"lower\")\n",
    "plt.xlabel('Índice da linha'); plt.ylabel('Índice da coluna')\n",
    "plt.xticks((0,1,2,3),['A','T','C','G'])\n",
    "plt.yticks([3, 2, 1, 0],['G','C','T','A'])\n",
    "plt.title(\"Covid-19\")\n",
    "_ = plt.colorbar()\n",
    "\n"
   ]
  },
  {
   "cell_type": "code",
   "execution_count": 26,
   "metadata": {},
   "outputs": [
    {
     "data": {
      "image/png": "[encoded data removed]",
      "text/plain": [
       "<Figure size 432x288 with 2 Axes>"
      ]
     },
     "metadata": {
      "needs_background": "light"
     },
     "output_type": "display_data"
    }
   ],
   "source": [
    "plt.imshow(matriz_influenza1, cmap = 'Blues', origin=\"lower\")\n",
    "plt.xlabel('Índice da linha'); plt.ylabel('Índice da coluna')\n",
    "plt.xticks((0,1,2,3),['A','T','C','G'])\n",
    "plt.yticks([3, 2, 1, 0],['G','C','T','A'])\n",
    "plt.title(\"Influenza A\")\n",
    "_ = plt.colorbar()"
   ]
  }
 ],
 "metadata": {
  "kernelspec": {
   "display_name": "Python 3.10.5 64-bit (windows store)",
   "language": "python",
   "name": "python3"
  },
  "language_info": {
   "codemirror_mode": {
    "name": "ipython",
    "version": 3
   },
   "file_extension": ".py",
   "mimetype": "text/x-python",
   "name": "python",
   "nbconvert_exporter": "python",
   "pygments_lexer": "ipython3",
   "version": "3.10.5"
  },
  "orig_nbformat": 4,
  "vscode": {
   "interpreter": {
    "hash": "4755ea49871eee6dc607c35acdcc013c27cdc8227bd66fda43b55df4e2770444"
   }
  }
 },
 "nbformat": 4,
 "nbformat_minor": 2
}
